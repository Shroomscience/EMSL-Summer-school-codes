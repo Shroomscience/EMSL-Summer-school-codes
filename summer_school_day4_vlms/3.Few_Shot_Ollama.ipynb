{
 "cells": [
  {
   "cell_type": "markdown",
   "id": "b95930a9",
   "metadata": {},
   "source": [
    "In this excercise, we will try few-shot prompting using ollama. <br>\n",
    "Images used here are from, https://iopscience.iop.org/article/10.1088/1757-899X/941/1/012017"
   ]
  },
  {
   "cell_type": "code",
   "execution_count": 10,
   "id": "85987b03-99b2-48b7-8cd6-dc6986ec2cbe",
   "metadata": {},
   "outputs": [],
   "source": [
    "import ollama"
   ]
  },
  {
   "cell_type": "markdown",
   "id": "695aa493-87df-4316-a134-bc5d6417c965",
   "metadata": {},
   "source": [
    "#### Define your few-shot examples: each as a message with image, text, and expected output"
   ]
  },
  {
   "cell_type": "code",
   "execution_count": 11,
   "id": "32d34181",
   "metadata": {},
   "outputs": [],
   "source": [
    "example_image1 = \"images/sandy_a.png\"\n",
    "example_image2 = \"images/silty_clay_c.png\"\n",
    "\n",
    "few_shot_examples = [\n",
    "    {\n",
    "        \"role\": \"user\",\n",
    "        \"content\": \"Describe the soil sample in the image?\",\n",
    "        \"images\": [example_image1]\n",
    "    },\n",
    "    {\n",
    "        \"role\": \"assistant\",\n",
    "        \"content\": \"The image shows a sandy soil sample.\"\n",
    "    },\n",
    "    {\n",
    "        \"role\": \"user\",\n",
    "        \"content\": \"Describe the soil sample in the image?\",\n",
    "        \"images\": [example_image2]\n",
    "    },\n",
    "    {\n",
    "        \"role\": \"assistant\",\n",
    "        \"content\": \"The image shows a silty clay soil sample.\"\n",
    "    }\n",
    "]\n"
   ]
  },
  {
   "cell_type": "markdown",
   "id": "8aa32068",
   "metadata": {},
   "source": [
    "Example images"
   ]
  },
  {
   "cell_type": "markdown",
   "id": "03b0a0b5",
   "metadata": {},
   "source": [
    "<p float=\"left\">\n",
    "  <img src=\"images/sandy_a.png\" width=\"400\" />\n",
    "  <img src=\"images/silty_clay_c.png\" width=\"400\" /> \n",
    "</p>"
   ]
  },
  {
   "cell_type": "markdown",
   "id": "734040c3",
   "metadata": {},
   "source": [
    "#### Add your actual query as the last user message"
   ]
  },
  {
   "cell_type": "code",
   "execution_count": null,
   "id": "7ebc5910",
   "metadata": {},
   "outputs": [],
   "source": [
    "query_message = {\n",
    "    \"role\": \"user\",\n",
    "    \"content\": \"Describe the image?\",\n",
    "    \"images\": [\"images/sandy_b.png\"]\n",
    "}"
   ]
  },
  {
   "cell_type": "markdown",
   "id": "cae22e71",
   "metadata": {},
   "source": [
    "Query image"
   ]
  },
  {
   "cell_type": "markdown",
   "id": "c2b33645",
   "metadata": {},
   "source": [
    "\n",
    "<p float=\"left\">\n",
    "  <img src=\"images/sandy_b.png\" width=\"400\" />\n",
    "</p>"
   ]
  },
  {
   "cell_type": "markdown",
   "id": "d66f3f48",
   "metadata": {},
   "source": [
    "#### Combine all messages"
   ]
  },
  {
   "cell_type": "code",
   "execution_count": 4,
   "id": "5ae5b38c",
   "metadata": {},
   "outputs": [],
   "source": [
    "messages = few_shot_examples + [query_message]"
   ]
  },
  {
   "cell_type": "markdown",
   "id": "47d16c7b-804b-415b-8b60-5d309c19c9a6",
   "metadata": {},
   "source": [
    "#### Choose a vision-capable model installed in Ollama (e.g., \"llava\", \"gemma3\", \"llama3-vision\", \"moondream\")"
   ]
  },
  {
   "cell_type": "code",
   "execution_count": 5,
   "id": "12ae3b43",
   "metadata": {},
   "outputs": [],
   "source": [
    "model_name = 'moondream:latest'"
   ]
  },
  {
   "cell_type": "markdown",
   "id": "1220f4c6",
   "metadata": {},
   "source": [
    "#### Run the chat"
   ]
  },
  {
   "cell_type": "code",
   "execution_count": null,
   "id": "cad06d54",
   "metadata": {},
   "outputs": [],
   "source": [
    "response = ollama.chat(\n",
    "    model=model_name,\n",
    "    messages=messages\n",
    ")"
   ]
  },
  {
   "cell_type": "code",
   "execution_count": 7,
   "id": "7af0627d-069d-4c73-ac09-c656f029b707",
   "metadata": {},
   "outputs": [
    {
     "name": "stdout",
     "output_type": "stream",
     "text": [
      "\n",
      "The image is a black and white photograph of a rock sample, possibly a clay or sand sample. There are several small rocks scattered throughout the frame, with some appearing to be broken into smaller pieces. The photo also contains arrows pointing in different directions, which may indicate the direction of movement or the path taken by the object.\n",
      "\n",
      "The image is presented as a black and white photograph, giving it an artistic touch while still conveying its message effectively.\n"
     ]
    }
   ],
   "source": [
    "print(response['message']['content'])"
   ]
  },
  {
   "cell_type": "code",
   "execution_count": null,
   "id": "91f62803-7fbc-433e-98fa-3b0d4a24b340",
   "metadata": {},
   "outputs": [],
   "source": []
  }
 ],
 "metadata": {
  "kernelspec": {
   "display_name": "summer",
   "language": "python",
   "name": "python3"
  },
  "language_info": {
   "codemirror_mode": {
    "name": "ipython",
    "version": 3
   },
   "file_extension": ".py",
   "mimetype": "text/x-python",
   "name": "python",
   "nbconvert_exporter": "python",
   "pygments_lexer": "ipython3",
   "version": "3.11.13"
  }
 },
 "nbformat": 4,
 "nbformat_minor": 5
}
