{
 "cells": [
  {
   "cell_type": "markdown",
   "id": "ff751789-173e-4740-a4b2-0799cebe1556",
   "metadata": {},
   "source": [
    "### 1. Download and install Ollama"
   ]
  },
  {
   "cell_type": "markdown",
   "id": "edd73277-122f-4a2a-811e-09c21c4b95ad",
   "metadata": {},
   "source": [
    "Ollama installation instructions can be found here,\n",
    "\n",
    "https://ollama.com/download/mac"
   ]
  },
  {
   "cell_type": "markdown",
   "id": "2ca919ff-0d79-4b7f-bf97-a9021ba38418",
   "metadata": {},
   "source": [
    "### 2. Download the model"
   ]
  },
  {
   "cell_type": "markdown",
   "id": "b8d9c8d8-c61b-4fb0-af50-fa36ef87952c",
   "metadata": {},
   "source": [
    "Run the following in the terminal"
   ]
  },
  {
   "cell_type": "markdown",
   "id": "5b7b4110-406c-41d5-921c-e4acd483b716",
   "metadata": {},
   "source": [
    "ollama run moondream:latest"
   ]
  },
  {
   "cell_type": "markdown",
   "id": "04bab613-1a53-4a37-87df-f4d57e671d8d",
   "metadata": {},
   "source": [
    "### 3. Set up the python environment"
   ]
  },
  {
   "cell_type": "markdown",
   "id": "ffee9e9b",
   "metadata": {},
   "source": [
    "3.1 Create a conda environment. The conda installation instructions can be found here: https://github.com/conda-forge/miniforge\n",
    "\n",
    "`conda create -n vlm python=3.11`"
   ]
  },
  {
   "cell_type": "markdown",
   "id": "41d61b7d",
   "metadata": {
    "vscode": {
     "languageId": "plaintext"
    }
   },
   "source": [
    "3.2 Activate the environment \n",
    "\n",
    "`conda activate vlm`"
   ]
  },
  {
   "cell_type": "markdown",
   "id": "69ffce3c-ff64-466e-94d9-09bd9661d06f",
   "metadata": {},
   "source": [
    "3.3 Install the required packages\n",
    "\n",
    "`pip install -r requirements.txt`"
   ]
  },
  {
   "cell_type": "markdown",
   "id": "356de19e-6671-4bba-a11d-fb9b60f510ff",
   "metadata": {},
   "source": [
    "3.4 Open Visual Studio Code and select vlm as the kernal"
   ]
  },
  {
   "cell_type": "markdown",
   "id": "d4f39413",
   "metadata": {},
   "source": []
  }
 ],
 "metadata": {
  "kernelspec": {
   "display_name": "vlm",
   "language": "python",
   "name": "vlm"
  },
  "language_info": {
   "codemirror_mode": {
    "name": "ipython",
    "version": 3
   },
   "file_extension": ".py",
   "mimetype": "text/x-python",
   "name": "python",
   "nbconvert_exporter": "python",
   "pygments_lexer": "ipython3",
   "version": "3.11.11"
  }
 },
 "nbformat": 4,
 "nbformat_minor": 5
}
